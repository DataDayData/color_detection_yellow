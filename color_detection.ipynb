{
 "cells": [
  {
   "cell_type": "code",
   "execution_count": 43,
   "id": "7c08ac1d",
   "metadata": {},
   "outputs": [],
   "source": [
    "import cv2\n",
    "import numpy as np\n",
    "from PIL import Image"
   ]
  },
  {
   "cell_type": "code",
   "execution_count": 44,
   "id": "5ec10342",
   "metadata": {},
   "outputs": [],
   "source": [
    "capture = cv2.VideoCapture(0)"
   ]
  },
  {
   "cell_type": "code",
   "execution_count": 45,
   "id": "2638e56c",
   "metadata": {},
   "outputs": [],
   "source": [
    "def get_limits(color):\n",
    "    # Convert color to uint8 array\n",
    "    color_array = np.uint8([[color]])\n",
    "    \n",
    "    # Convert color array to HSV color space\n",
    "    hsv_color = cv2.cvtColor(color_array, cv2.COLOR_BGR2HSV)\n",
    "    \n",
    "    # Extract hue value\n",
    "    hue = hsv_color[0][0][0]\n",
    "    \n",
    "    # Handle red hue wrap-around\n",
    "    if hue >= 165:\n",
    "        # Set lower and upper limits for hue range\n",
    "        lower_limit = np.array([hue - 10, 100, 100], dtype=np.uint8)\n",
    "        upper_limit = np.array([180, 255, 255], dtype=np.uint8)\n",
    "    elif hue <= 15:\n",
    "        # Set lower and upper limits for hue range\n",
    "        lower_limit = np.array([0, 100, 100], dtype=np.uint8)\n",
    "        upper_limit = np.array([hue + 10, 255, 255], dtype=np.uint8)\n",
    "    else:\n",
    "        # Set lower and upper limits for hue range\n",
    "        lower_limit = np.array([hue - 10, 100, 100], dtype=np.uint8)\n",
    "        upper_limit = np.array([hue + 10, 255, 255], dtype=np.uint8)\n",
    "    \n",
    "    # Return the lower and upper limits\n",
    "    return lower_limit, upper_limit"
   ]
  },
  {
   "cell_type": "code",
   "execution_count": 46,
   "id": "882e1c26",
   "metadata": {},
   "outputs": [],
   "source": [
    "color = [0, 255, 255]\n",
    "\n",
    "while True:\n",
    "    # Read frame from video capture\n",
    "    ret, frame = capture.read()\n",
    "    \n",
    "    # Convert frame to HSV color space\n",
    "    hsv_image = cv2.cvtColor(frame, cv2.COLOR_BGR2HSV)\n",
    "    \n",
    "    # Get lower and upper limits for the specified color\n",
    "    lower_limit, upper_limit = get_limits(color)\n",
    "    \n",
    "    # Create a mask based on the color range\n",
    "    the_mask = cv2.inRange(hsv_image, lower_limit, upper_limit)\n",
    "    \n",
    "    # Convert the mask to an Image object\n",
    "    mask_image = Image.fromarray(the_mask)\n",
    "    \n",
    "    # Get the bounding box of the mask\n",
    "    bbox = mask_image.getbbox()\n",
    "    \n",
    "    if bbox is not None:\n",
    "        # Extract the coordinates of the bounding box\n",
    "        x1, y1, x2, y2 = bbox\n",
    "        \n",
    "        # Draw a rectangle on the frame around the detected object\n",
    "        frame = cv2.rectangle(frame, (x1, y1), (x2, y2), (0, 255, 0), 5)\n",
    "    \n",
    "    # Display the frame\n",
    "    cv2.imshow('frame', frame)\n",
    "    \n",
    "    # Check if 'q' key is pressed to exit the loop\n",
    "    if cv2.waitKey(1) & 0xFF == ord('q'):\n",
    "        break\n",
    "\n",
    "# Release the video capture and close all windows\n",
    "capture.release()\n",
    "cv2.destroyAllWindows()"
   ]
  },
  {
   "cell_type": "code",
   "execution_count": null,
   "id": "a24c856c",
   "metadata": {},
   "outputs": [],
   "source": []
  },
  {
   "cell_type": "code",
   "execution_count": null,
   "id": "20e7904e",
   "metadata": {},
   "outputs": [],
   "source": []
  },
  {
   "cell_type": "code",
   "execution_count": null,
   "id": "366b11c9",
   "metadata": {},
   "outputs": [],
   "source": []
  }
 ],
 "metadata": {
  "kernelspec": {
   "display_name": "Python 3 (ipykernel)",
   "language": "python",
   "name": "python3"
  },
  "language_info": {
   "codemirror_mode": {
    "name": "ipython",
    "version": 3
   },
   "file_extension": ".py",
   "mimetype": "text/x-python",
   "name": "python",
   "nbconvert_exporter": "python",
   "pygments_lexer": "ipython3",
   "version": "3.10.9"
  }
 },
 "nbformat": 4,
 "nbformat_minor": 5
}
